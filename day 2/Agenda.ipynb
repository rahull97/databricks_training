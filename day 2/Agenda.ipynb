{
 "cells": [
  {
   "cell_type": "markdown",
   "metadata": {
    "application/vnd.databricks.v1+cell": {
     "cellMetadata": {},
     "inputWidgets": {},
     "nuid": "5b7106e2-701d-4d4f-b66c-de73c45cda9e",
     "showTitle": false,
     "tableResultSettingsMap": {},
     "title": ""
    }
   },
   "source": [
    "\n",
    "1. Lakehouse\n",
    "2. Meadillion architecture/ multihop/ bronze silver gold\n",
    "3. delta lake\n",
    "4. type of new table format\n",
    "5. working on delta\n",
    "6. internals to delta\n",
    "7. hands on Meadillion (views, functions etc)\n",
    "8. optimize the delta\n",
    "9. workflow jobs for automation"
   ]
  }
 ],
 "metadata": {
  "application/vnd.databricks.v1+notebook": {
   "computePreferences": null,
   "dashboards": [],
   "environmentMetadata": {
    "base_environment": "",
    "environment_version": "2"
   },
   "inputWidgetPreferences": null,
   "language": "python",
   "notebookMetadata": {
    "pythonIndentUnit": 4
   },
   "notebookName": "Agenda",
   "widgets": {}
  },
  "language_info": {
   "name": "python"
  }
 },
 "nbformat": 4,
 "nbformat_minor": 0
}
